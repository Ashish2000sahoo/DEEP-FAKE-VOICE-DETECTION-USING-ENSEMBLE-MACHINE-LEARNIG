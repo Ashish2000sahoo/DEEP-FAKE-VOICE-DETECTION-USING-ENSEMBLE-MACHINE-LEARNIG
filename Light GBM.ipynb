{
 "cells": [
  {
   "cell_type": "code",
   "execution_count": 1,
   "id": "ff6a0c57-bf0c-4697-9f68-8b372acc83c8",
   "metadata": {},
   "outputs": [
    {
     "name": "stdout",
     "output_type": "stream",
     "text": [
      "Requirement already satisfied: lightgbm in c:\\users\\lenovo\\anaconda3\\lib\\site-packages (4.3.0)\n",
      "Requirement already satisfied: numpy in c:\\users\\lenovo\\anaconda3\\lib\\site-packages (from lightgbm) (1.26.2)\n",
      "Requirement already satisfied: scipy in c:\\users\\lenovo\\anaconda3\\lib\\site-packages (from lightgbm) (1.11.4)\n",
      "Note: you may need to restart the kernel to use updated packages.\n"
     ]
    }
   ],
   "source": [
    "pip install lightgbm"
   ]
  },
  {
   "cell_type": "code",
   "execution_count": 2,
   "id": "58a856c5-e025-4421-956e-fa6d5b829418",
   "metadata": {},
   "outputs": [],
   "source": [
    "# IMPORTS\n",
    "import pandas as pd\n",
    "import numpy as np\n",
    "import lightgbm as lgb\n",
    "from sklearn.model_selection import train_test_split\n",
    "import statistics as st\n",
    "import warnings\n",
    "warnings.filterwarnings('ignore')\n",
    "from sklearn.metrics import mean_squared_error\n",
    "from sklearn.metrics import mean_absolute_error\n",
    "from sklearn.metrics import roc_auc_score, accuracy_score, precision_score, recall_score, f1_score, matthews_corrcoef\n",
    "import matplotlib.pyplot as plt\n",
    "import seaborn as sns\n",
    "from sklearn.metrics import confusion_matrix"
   ]
  },
  {
   "cell_type": "code",
   "execution_count": 3,
   "id": "3628e9ee-4d6c-4fba-ba04-a81747e18969",
   "metadata": {},
   "outputs": [],
   "source": [
    "# SPLITTING THE DATASET\n",
    "df = pd.read_csv('DATASET-balanced 1.csv')\n",
    "x = df.drop('LABEL', axis = 1)\n",
    "y = df['LABEL']\n",
    "x_train, x_test, y_train, y_test = train_test_split(x, y, test_size=0.2, random_state=0)"
   ]
  },
  {
   "cell_type": "code",
   "execution_count": 4,
   "id": "53d50d36-9df3-430b-b390-47dbd8cfcaf9",
   "metadata": {},
   "outputs": [
    {
     "name": "stdout",
     "output_type": "stream",
     "text": [
      "[LightGBM] [Info] Auto-choosing col-wise multi-threading, the overhead of testing was 0.002022 seconds.\n",
      "You can set `force_col_wise=true` to remove the overhead.\n",
      "[LightGBM] [Info] Total Bins 6630\n",
      "[LightGBM] [Info] Number of data points in the train set: 9422, number of used features: 26\n",
      "[LightGBM] [Info] Start training from score 0.495648\n"
     ]
    }
   ],
   "source": [
    "train_data=lgb.Dataset(x_train,label=y_train)\n",
    "#define parameters\n",
    "params = {'learning_rate':0.001}\n",
    "model= lgb.train(params, train_data, 100) \n",
    "y_pred=model.predict(x_test)\n",
    "for i in range(0,185):\n",
    "   if y_pred[i] > 0.5:  # Indentation added here\n",
    "    y_pred[i] = 1\n",
    "else:\n",
    "    y_pred[i] = 0"
   ]
  },
  {
   "cell_type": "code",
   "execution_count": 5,
   "id": "aeb76d3e-53f7-4058-b7d8-631cf431cb82",
   "metadata": {},
   "outputs": [],
   "source": [
    "pred_final = np.round(model.predict(x_test))"
   ]
  },
  {
   "cell_type": "code",
   "execution_count": 6,
   "id": "11515376-c7b2-4ad3-ac9d-08bd57288c00",
   "metadata": {},
   "outputs": [],
   "source": [
    "accuracy = round(accuracy_score(y_test, pred_final) * 100, 3)\n",
    "auc = round(roc_auc_score(y_test, pred_final), 3)\n",
    "prec = round(precision_score(y_test, pred_final, average=\"binary\", pos_label=1), 3)\n",
    "rec = round(recall_score(y_test, pred_final, average=\"binary\", pos_label=1), 3)\n",
    "f1 = round(f1_score(y_test, pred_final, average=\"binary\", pos_label=1), 3)\n",
    "mcc = round(matthews_corrcoef(y_test, pred_final), 3)\n",
    "mse = round(mean_squared_error(y_test, pred_final), 3)\n",
    "mae = round(mean_absolute_error(y_test, pred_final), 3)"
   ]
  },
  {
   "cell_type": "code",
   "execution_count": 7,
   "id": "b737a809-a9db-4af4-89a2-3058d3990dba",
   "metadata": {},
   "outputs": [
    {
     "name": "stdout",
     "output_type": "stream",
     "text": [
      " Accuracy: 90.577%\n",
      " AUC score: 0.906\n",
      "Precision: 0.923\n",
      "Recall: 0.893\n",
      "F1-score: 0.907\n",
      "MCC: 0.812\n",
      "Mean Squared Error (MSE) : 0.094\n",
      "Mean Absolute Error (MAE): 0.094\n"
     ]
    }
   ],
   "source": [
    "print(f\" Accuracy: {accuracy}%\")\n",
    "print(f\" AUC score: {auc}\")\n",
    "print(\"Precision:\", prec)\n",
    "print(\"Recall:\", rec)\n",
    "print(\"F1-score:\", f1)\n",
    "print(\"MCC:\", mcc)\n",
    "print(\"Mean Squared Error (MSE) :\", mse)\n",
    "print(\"Mean Absolute Error (MAE):\", mae)"
   ]
  },
  {
   "cell_type": "code",
   "execution_count": 8,
   "id": "15d7c78d-2f6a-4196-84b4-69a04d046584",
   "metadata": {},
   "outputs": [
    {
     "name": "stdout",
     "output_type": "stream",
     "text": [
      "Confusion Matrix:\n",
      "[[1046   91]\n",
      " [ 131 1088]]\n"
     ]
    },
    {
     "data": {
      "image/png": "[encoded data removed]",
      "text/plain": [
       "<Figure size 800x600 with 2 Axes>"
      ]
     },
     "metadata": {},
     "output_type": "display_data"
    }
   ],
   "source": [
    "conf_matrix = confusion_matrix(y_test, pred_final)\n",
    "print(\"Confusion Matrix:\")\n",
    "print(conf_matrix)\n",
    "\n",
    "# Plot the heat map for AdaBoost model\n",
    "plt.figure(figsize=(8, 6))\n",
    "sns.heatmap(conf_matrix, annot=True, cmap='Blues', fmt='g')\n",
    "plt.title('Confusion Matrix for Light GBM Model')\n",
    "plt.xlabel('Predicted Label')\n",
    "plt.ylabel('True Label')\n",
    "plt.show()"
   ]
  },
  {
   "cell_type": "code",
   "execution_count": null,
   "id": "43324b06-6ff8-4f03-8015-0f7a5c5bd9ba",
   "metadata": {},
   "outputs": [],
   "source": []
  }
 ],
 "metadata": {
  "kernelspec": {
   "display_name": "Python 3 (ipykernel)",
   "language": "python",
   "name": "python3"
  },
  "language_info": {
   "codemirror_mode": {
    "name": "ipython",
    "version": 3
   },
   "file_extension": ".py",
   "mimetype": "text/x-python",
   "name": "python",
   "nbconvert_exporter": "python",
   "pygments_lexer": "ipython3",
   "version": "3.11.5"
  }
 },
 "nbformat": 4,
 "nbformat_minor": 5
}
