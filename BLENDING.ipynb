{
 "cells": [
  {
   "cell_type": "code",
   "execution_count": 1,
   "id": "0821221f-aeb7-4d2f-8dd9-21e2c640d849",
   "metadata": {},
   "outputs": [],
   "source": [
    "# IMPORTS\n",
    "import pandas as pd\n",
    "import numpy as np\n",
    "from numpy import mean\n",
    "from numpy import std\n",
    "from numpy import hstack\n",
    "from sklearn.model_selection import cross_val_score\n",
    "from sklearn.model_selection import RepeatedStratifiedKFold\n",
    "from sklearn.linear_model import LogisticRegression\n",
    "from sklearn.neighbors import KNeighborsClassifier\n",
    "from sklearn.tree import DecisionTreeClassifier\n",
    "from sklearn.svm import SVC\n",
    "from sklearn.naive_bayes import GaussianNB\n",
    "from sklearn.ensemble import StackingClassifier\n",
    "from matplotlib import pyplot\n",
    "from sklearn.model_selection import train_test_split\n",
    "import statistics as st\n",
    "import warnings\n",
    "warnings.filterwarnings('ignore')\n",
    "from sklearn.metrics import mean_squared_error\n",
    "from sklearn.metrics import mean_absolute_error\n",
    "from sklearn.metrics import roc_auc_score, accuracy_score, precision_score, recall_score, f1_score, matthews_corrcoef"
   ]
  },
  {
   "cell_type": "code",
   "execution_count": 2,
   "id": "0a901643-d6a4-4504-ba01-44264195fd6c",
   "metadata": {},
   "outputs": [],
   "source": [
    "# SPLITTING THE DATASET\n",
    "df = pd.read_csv('DATASET-balanced 1.csv')\n",
    "X = df.drop('LABEL', axis = 1)\n",
    "y = df['LABEL']\n",
    "# split dataset into train and test sets\n",
    "X_train_full, X_test, y_train_full, y_test = train_test_split(X, y, test_size=0.5, random_state=1)\n",
    "# split training set into train and validation sets\n",
    "X_train, X_val, y_train, y_val = train_test_split(X_train_full, y_train_full, test_size=0.33, random_state=1)"
   ]
  },
  {
   "cell_type": "code",
   "execution_count": 3,
   "id": "556354bb-79f5-49a5-a485-625668787e4d",
   "metadata": {},
   "outputs": [],
   "source": [
    "# get a list of base models\n",
    "def get_models():\n",
    " models = list()\n",
    " models.append(('lr', LogisticRegression()))\n",
    " models.append(('knn', KNeighborsClassifier()))\n",
    " models.append(('cart', DecisionTreeClassifier()))\n",
    " models.append(('svm', SVC(probability=True)))\n",
    " models.append(('bayes', GaussianNB()))\n",
    " return models"
   ]
  },
  {
   "cell_type": "code",
   "execution_count": 4,
   "id": "44cf116f-3a3b-4efd-9f0d-a5aa8b081b9f",
   "metadata": {},
   "outputs": [],
   "source": [
    "# fit the blending ensemble\n",
    "def fit_ensemble(models, X_train, X_val, y_train, y_val):\n",
    " # fit all models on the training set and predict on hold out set\n",
    " meta_X = list()\n",
    " for name, model in models:\n",
    "    # fit in training set\n",
    "    model.fit(X_train, y_train)\n",
    "    # predict on hold out set\n",
    "    yhat = model.predict_proba(X_val)\n",
    "    # store predictions as input for blending\n",
    "    meta_X.append(yhat)\n",
    "    # create 2d array from predictions, each set is an input feature\n",
    "    meta_X = hstack(meta_X)\n",
    " # define blending model\n",
    " blender = LogisticRegression()\n",
    " # fit on predictions from base models\n",
    " blender.fit(meta_X, y_val)\n",
    " return blender"
   ]
  },
  {
   "cell_type": "code",
   "execution_count": 5,
   "id": "ba576020-98b6-4bca-a17f-439b81239429",
   "metadata": {},
   "outputs": [],
   "source": [
    "# make a prediction with the blending ensemble\n",
    "def predict_ensemble(models, blender, X_test):\n",
    " # make predictions with base models\n",
    " meta_X = list()\n",
    " for name, model in models:\n",
    "     # predict with base model\n",
    "     yhat = model.predict_proba(X_test)\n",
    " # store prediction\n",
    " meta_X.append(yhat)\n",
    " # create 2d array from predictions, each set is an input feature\n",
    " meta_X = hstack(meta_X)\n",
    " # predict\n",
    " return blender.predict(meta_X)"
   ]
  },
  {
   "cell_type": "code",
   "execution_count": 6,
   "id": "f067c1ff-1e7b-43a6-bf8d-759dccce6e5c",
   "metadata": {},
   "outputs": [
    {
     "name": "stdout",
     "output_type": "stream",
     "text": [
      "Train: (3945, 26), Val: (1944, 26), Test: (5889, 26)\n"
     ]
    },
    {
     "ename": "AttributeError",
     "evalue": "'numpy.ndarray' object has no attribute 'append'",
     "output_type": "error",
     "traceback": [
      "\u001b[1;31m---------------------------------------------------------------------------\u001b[0m",
      "\u001b[1;31mAttributeError\u001b[0m                            Traceback (most recent call last)",
      "Cell \u001b[1;32mIn[6], line 6\u001b[0m\n\u001b[0;32m      4\u001b[0m models \u001b[38;5;241m=\u001b[39m get_models()\n\u001b[0;32m      5\u001b[0m \u001b[38;5;66;03m# train the blending ensemble\u001b[39;00m\n\u001b[1;32m----> 6\u001b[0m blender \u001b[38;5;241m=\u001b[39m fit_ensemble(models, X_train, X_val, y_train, y_val)\n\u001b[0;32m      7\u001b[0m \u001b[38;5;66;03m# make predictions on test set\u001b[39;00m\n\u001b[0;32m      8\u001b[0m yhat \u001b[38;5;241m=\u001b[39m predict_ensemble(models, blender, X_test)\n",
      "Cell \u001b[1;32mIn[4], line 11\u001b[0m, in \u001b[0;36mfit_ensemble\u001b[1;34m(models, X_train, X_val, y_train, y_val)\u001b[0m\n\u001b[0;32m      9\u001b[0m yhat \u001b[38;5;241m=\u001b[39m model\u001b[38;5;241m.\u001b[39mpredict_proba(X_val)\n\u001b[0;32m     10\u001b[0m \u001b[38;5;66;03m# store predictions as input for blending\u001b[39;00m\n\u001b[1;32m---> 11\u001b[0m meta_X\u001b[38;5;241m.\u001b[39mappend(yhat)\n\u001b[0;32m     12\u001b[0m \u001b[38;5;66;03m# create 2d array from predictions, each set is an input feature\u001b[39;00m\n\u001b[0;32m     13\u001b[0m meta_X \u001b[38;5;241m=\u001b[39m hstack(meta_X)\n",
      "\u001b[1;31mAttributeError\u001b[0m: 'numpy.ndarray' object has no attribute 'append'"
     ]
    }
   ],
   "source": [
    "# summarize data split\n",
    "print('Train: %s, Val: %s, Test: %s' % (X_train.shape, X_val.shape, X_test.shape))\n",
    "# create the base models\n",
    "models = get_models()\n",
    "# train the blending ensemble\n",
    "blender = fit_ensemble(models, X_train, X_val, y_train, y_val)\n",
    "# make predictions on test set\n",
    "yhat = predict_ensemble(models, blender, X_test)\n",
    "# evaluate predictions\n",
    "score = accuracy_score(y_test, yhat)\n",
    "print('Blending Accuracy: %.3f' % (score*100))"
   ]
  },
  {
   "cell_type": "code",
   "execution_count": null,
   "id": "1cceae55-7069-4e9a-9ac9-76c779eb07bc",
   "metadata": {},
   "outputs": [],
   "source": []
  },
  {
   "cell_type": "code",
   "execution_count": null,
   "id": "96de4ed7-b811-41a0-b96b-9fe9555f3eda",
   "metadata": {},
   "outputs": [],
   "source": []
  }
 ],
 "metadata": {
  "kernelspec": {
   "display_name": "Python 3 (ipykernel)",
   "language": "python",
   "name": "python3"
  },
  "language_info": {
   "codemirror_mode": {
    "name": "ipython",
    "version": 3
   },
   "file_extension": ".py",
   "mimetype": "text/x-python",
   "name": "python",
   "nbconvert_exporter": "python",
   "pygments_lexer": "ipython3",
   "version": "3.11.5"
  }
 },
 "nbformat": 4,
 "nbformat_minor": 5
}
