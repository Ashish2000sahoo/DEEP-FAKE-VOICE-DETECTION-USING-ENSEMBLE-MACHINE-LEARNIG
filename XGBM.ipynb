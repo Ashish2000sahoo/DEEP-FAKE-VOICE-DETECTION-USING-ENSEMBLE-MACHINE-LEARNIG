{
 "cells": [
  {
   "cell_type": "code",
   "execution_count": 1,
   "id": "c4f2196e-5393-4b78-b628-c686731f041c",
   "metadata": {},
   "outputs": [],
   "source": [
    "# IMPORTS\n",
    "import pandas as pd\n",
    "import numpy as np\n",
    "import xgboost as xgb\n",
    "from sklearn.model_selection import train_test_split\n",
    "import statistics as st\n",
    "import warnings\n",
    "warnings.filterwarnings('ignore')\n",
    "from sklearn.metrics import mean_squared_error\n",
    "from sklearn.metrics import mean_absolute_error\n",
    "from sklearn.metrics import roc_auc_score, accuracy_score, precision_score, recall_score, f1_score, matthews_corrcoef\n",
    "import matplotlib.pyplot as plt\n",
    "import seaborn as sns\n",
    "from sklearn.metrics import confusion_matrix"
   ]
  },
  {
   "cell_type": "code",
   "execution_count": 2,
   "id": "d6a84104-fc4d-4f59-8b16-24b2c0277c0f",
   "metadata": {},
   "outputs": [],
   "source": [
    "# SPLITTING THE DATASET\n",
    "df = pd.read_csv('DATASET-balanced 1.csv')\n",
    "x = df.drop('LABEL', axis = 1)\n",
    "y = df['LABEL']\n",
    "x_train, x_test, y_train, y_test = train_test_split(x, y, test_size=0.2, random_state=0)"
   ]
  },
  {
   "cell_type": "code",
   "execution_count": 3,
   "id": "98f5986c-f2c9-4f32-aa29-31d64ff21672",
   "metadata": {},
   "outputs": [
    {
     "data": {
      "text/plain": [
       "0.9414261460101867"
      ]
     },
     "execution_count": 3,
     "metadata": {},
     "output_type": "execute_result"
    }
   ],
   "source": [
    "model=xgb.XGBClassifier(random_state=1,learning_rate=0.01)\n",
    "model.fit(x_train, y_train)\n",
    "model.score(x_test,y_test)"
   ]
  },
  {
   "cell_type": "code",
   "execution_count": 4,
   "id": "26439d22-8bf3-45bb-bf46-aebd87a22211",
   "metadata": {},
   "outputs": [],
   "source": [
    "pred_final = model.predict(x_test)"
   ]
  },
  {
   "cell_type": "code",
   "execution_count": 5,
   "id": "b958737b-091c-42b2-94f4-bff4279a7a30",
   "metadata": {},
   "outputs": [],
   "source": [
    "accuracy = round(accuracy_score(y_test, pred_final) * 100, 3)\n",
    "auc = round(roc_auc_score(y_test, pred_final), 3)\n",
    "prec = round(precision_score(y_test, pred_final, average=\"binary\", pos_label=1), 3)\n",
    "rec = round(recall_score(y_test, pred_final, average=\"binary\", pos_label=1), 3)\n",
    "f1 = round(f1_score(y_test, pred_final, average=\"binary\", pos_label=1), 3)\n",
    "mcc = round(matthews_corrcoef(y_test, pred_final), 3)\n",
    "mse = round(mean_squared_error(y_test, pred_final), 3)\n",
    "mae = round(mean_absolute_error(y_test, pred_final), 3)"
   ]
  },
  {
   "cell_type": "code",
   "execution_count": 6,
   "id": "5b4fbefb-1957-4116-9c00-7011314bb96f",
   "metadata": {},
   "outputs": [
    {
     "name": "stdout",
     "output_type": "stream",
     "text": [
      " Accuracy: 94.143%\n",
      " AUC score: 0.942\n",
      "Precision: 0.969\n",
      "Recall: 0.916\n",
      "F1-score: 0.942\n",
      "MCC: 0.884\n",
      "Mean Squared Error (MSE) : 0.059\n",
      "Mean Absolute Error (MAE): 0.059\n"
     ]
    }
   ],
   "source": [
    "print(f\" Accuracy: {accuracy}%\")\n",
    "print(f\" AUC score: {auc}\")\n",
    "print(\"Precision:\", prec)\n",
    "print(\"Recall:\", rec)\n",
    "print(\"F1-score:\", f1)\n",
    "print(\"MCC:\", mcc)\n",
    "print(\"Mean Squared Error (MSE) :\", mse)\n",
    "print(\"Mean Absolute Error (MAE):\", mae)"
   ]
  },
  {
   "cell_type": "code",
   "execution_count": null,
   "id": "53e47436-7ccc-46de-94db-6516bbfa54b1",
   "metadata": {},
   "outputs": [],
   "source": [
    "conf_matrix = confusion_matrix(y_test, pred_final)\n",
    "print(\"Confusion Matrix:\")\n",
    "print(conf_matrix)\n",
    "\n",
    "# Plot the heat map for AdaBoost model\n",
    "plt.figure(figsize=(8, 6))\n",
    "sns.heatmap(conf_matrix, annot=True, cmap='Blues', fmt='g')\n",
    "plt.title('Confusion Matrix fAdaBoost Model')\n",
    "plt.xlabel('Predicted Label')\n",
    "plt.ylabel('True Label')\n",
    "plt.show()"
   ]
  }
 ],
 "metadata": {
  "kernelspec": {
   "display_name": "Python 3 (ipykernel)",
   "language": "python",
   "name": "python3"
  },
  "language_info": {
   "codemirror_mode": {
    "name": "ipython",
    "version": 3
   },
   "file_extension": ".py",
   "mimetype": "text/x-python",
   "name": "python",
   "nbconvert_exporter": "python",
   "pygments_lexer": "ipython3",
   "version": "3.11.5"
  }
 },
 "nbformat": 4,
 "nbformat_minor": 5
}
