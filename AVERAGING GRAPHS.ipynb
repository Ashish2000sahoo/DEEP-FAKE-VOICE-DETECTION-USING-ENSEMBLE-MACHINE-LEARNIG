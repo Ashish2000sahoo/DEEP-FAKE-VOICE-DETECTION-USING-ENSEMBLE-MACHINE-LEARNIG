{
 "cells": [
  {
   "cell_type": "code",
   "execution_count": 1,
   "id": "a12b04a3-0c6a-4edf-993f-f71123f3f431",
   "metadata": {},
   "outputs": [],
   "source": [
    "import pandas as pd\n",
    "import numpy as np\n",
    "import matplotlib.pyplot as plt\n",
    "import seaborn as sns\n",
    "from sklearn.tree import DecisionTreeClassifier\n",
    "from sklearn.neighbors import KNeighborsClassifier\n",
    "from sklearn.ensemble import RandomForestClassifier\n",
    "from sklearn.ensemble import VotingClassifier\n",
    "from sklearn.model_selection import train_test_split\n",
    "from sklearn.metrics import log_loss\n",
    "import statistics as st\n",
    "import warnings\n",
    "warnings.filterwarnings('ignore')\n",
    "from sklearn.metrics import roc_auc_score, accuracy_score, precision_score, recall_score, f1_score, matthews_corrcoef\n",
    "from sklearn.metrics import mean_squared_error\n",
    "from sklearn.metrics import mean_absolute_error"
   ]
  },
  {
   "cell_type": "code",
   "execution_count": 2,
   "id": "140c46d5-a71e-4bae-a57b-98636eeaab22",
   "metadata": {},
   "outputs": [],
   "source": [
    "df = pd.read_csv(\"DATASET-balanced 1.csv\")\n",
    "target = df[\"LABEL\"]\n",
    "train = df.drop(\"LABEL\", axis=1)\n",
    "X_train, X_test, y_train, y_test = train_test_split(train, target, test_size=0.20, random_state=0)"
   ]
  },
  {
   "cell_type": "code",
   "execution_count": 3,
   "id": "5e667005-304d-426c-b342-97a471609441",
   "metadata": {},
   "outputs": [
    {
     "data": {
      "text/html": [
       "<style>#sk-container-id-1 {color: black;background-color: white;}#sk-container-id-1 pre{padding: 0;}#sk-container-id-1 div.sk-toggleable {background-color: white;}#sk-container-id-1 label.sk-toggleable__label {cursor: pointer;display: block;width: 100%;margin-bottom: 0;padding: 0.3em;box-sizing: border-box;text-align: center;}#sk-container-id-1 label.sk-toggleable__label-arrow:before {content: \"▸\";float: left;margin-right: 0.25em;color: #696969;}#sk-container-id-1 label.sk-toggleable__label-arrow:hover:before {color: black;}#sk-container-id-1 div.sk-estimator:hover label.sk-toggleable__label-arrow:before {color: black;}#sk-container-id-1 div.sk-toggleable__content {max-height: 0;max-width: 0;overflow: hidden;text-align: left;background-color: #f0f8ff;}#sk-container-id-1 div.sk-toggleable__content pre {margin: 0.2em;color: black;border-radius: 0.25em;background-color: #f0f8ff;}#sk-container-id-1 input.sk-toggleable__control:checked~div.sk-toggleable__content {max-height: 200px;max-width: 100%;overflow: auto;}#sk-container-id-1 input.sk-toggleable__control:checked~label.sk-toggleable__label-arrow:before {content: \"▾\";}#sk-container-id-1 div.sk-estimator input.sk-toggleable__control:checked~label.sk-toggleable__label {background-color: #d4ebff;}#sk-container-id-1 div.sk-label input.sk-toggleable__control:checked~label.sk-toggleable__label {background-color: #d4ebff;}#sk-container-id-1 input.sk-hidden--visually {border: 0;clip: rect(1px 1px 1px 1px);clip: rect(1px, 1px, 1px, 1px);height: 1px;margin: -1px;overflow: hidden;padding: 0;position: absolute;width: 1px;}#sk-container-id-1 div.sk-estimator {font-family: monospace;background-color: #f0f8ff;border: 1px dotted black;border-radius: 0.25em;box-sizing: border-box;margin-bottom: 0.5em;}#sk-container-id-1 div.sk-estimator:hover {background-color: #d4ebff;}#sk-container-id-1 div.sk-parallel-item::after {content: \"\";width: 100%;border-bottom: 1px solid gray;flex-grow: 1;}#sk-container-id-1 div.sk-label:hover label.sk-toggleable__label {background-color: #d4ebff;}#sk-container-id-1 div.sk-serial::before {content: \"\";position: absolute;border-left: 1px solid gray;box-sizing: border-box;top: 0;bottom: 0;left: 50%;z-index: 0;}#sk-container-id-1 div.sk-serial {display: flex;flex-direction: column;align-items: center;background-color: white;padding-right: 0.2em;padding-left: 0.2em;position: relative;}#sk-container-id-1 div.sk-item {position: relative;z-index: 1;}#sk-container-id-1 div.sk-parallel {display: flex;align-items: stretch;justify-content: center;background-color: white;position: relative;}#sk-container-id-1 div.sk-item::before, #sk-container-id-1 div.sk-parallel-item::before {content: \"\";position: absolute;border-left: 1px solid gray;box-sizing: border-box;top: 0;bottom: 0;left: 50%;z-index: -1;}#sk-container-id-1 div.sk-parallel-item {display: flex;flex-direction: column;z-index: 1;position: relative;background-color: white;}#sk-container-id-1 div.sk-parallel-item:first-child::after {align-self: flex-end;width: 50%;}#sk-container-id-1 div.sk-parallel-item:last-child::after {align-self: flex-start;width: 50%;}#sk-container-id-1 div.sk-parallel-item:only-child::after {width: 0;}#sk-container-id-1 div.sk-dashed-wrapped {border: 1px dashed gray;margin: 0 0.4em 0.5em 0.4em;box-sizing: border-box;padding-bottom: 0.4em;background-color: white;}#sk-container-id-1 div.sk-label label {font-family: monospace;font-weight: bold;display: inline-block;line-height: 1.2em;}#sk-container-id-1 div.sk-label-container {text-align: center;}#sk-container-id-1 div.sk-container {/* jupyter's `normalize.less` sets `[hidden] { display: none; }` but bootstrap.min.css set `[hidden] { display: none !important; }` so we also need the `!important` here to be able to override the default hidden behavior on the sphinx rendered scikit-learn.org. See: https://github.com/scikit-learn/scikit-learn/issues/21755 */display: inline-block !important;position: relative;}#sk-container-id-1 div.sk-text-repr-fallback {display: none;}</style><div id=\"sk-container-id-1\" class=\"sk-top-container\"><div class=\"sk-text-repr-fallback\"><pre>KNeighborsClassifier()</pre><b>In a Jupyter environment, please rerun this cell to show the HTML representation or trust the notebook. <br />On GitHub, the HTML representation is unable to render, please try loading this page with nbviewer.org.</b></div><div class=\"sk-container\" hidden><div class=\"sk-item\"><div class=\"sk-estimator sk-toggleable\"><input class=\"sk-toggleable__control sk-hidden--visually\" id=\"sk-estimator-id-1\" type=\"checkbox\" checked><label for=\"sk-estimator-id-1\" class=\"sk-toggleable__label sk-toggleable__label-arrow\">KNeighborsClassifier</label><div class=\"sk-toggleable__content\"><pre>KNeighborsClassifier()</pre></div></div></div></div></div>"
      ],
      "text/plain": [
       "KNeighborsClassifier()"
      ]
     },
     "execution_count": 3,
     "metadata": {},
     "output_type": "execute_result"
    }
   ],
   "source": [
    "model_1 = RandomForestClassifier()\n",
    "model_2 = DecisionTreeClassifier()\n",
    "model_3 = KNeighborsClassifier()\n",
    "\n",
    "model_1.fit(X_train, y_train)\n",
    "model_2.fit(X_train, y_train)\n",
    "model_3.fit(X_train, y_train)"
   ]
  },
  {
   "cell_type": "code",
   "execution_count": 4,
   "id": "03861bc2-655f-4ae3-94f9-c30dfaaa0fef",
   "metadata": {},
   "outputs": [],
   "source": [
    "pred_1 = model_1.predict(X_test)\n",
    "pred_2 = model_2.predict(X_test)\n",
    "pred_3 = model_3.predict(X_test)\n",
    "pred_final = np.round((pred_1 + pred_2 + pred_3) / 3.0)"
   ]
  },
  {
   "cell_type": "code",
   "execution_count": 5,
   "id": "6f095102-41be-49ce-9139-da79063f5a7a",
   "metadata": {},
   "outputs": [
    {
     "name": "stdout",
     "output_type": "stream",
     "text": [
      "Accuracy: 97.071%\n",
      "AUC score: 0.971\n",
      "Precision: 0.974\n",
      "Recall: 0.97\n",
      "F1-score: 0.972\n",
      "MCC: 0.941\n",
      "Mean Squared Error (MSE): 0.029\n",
      "Mean Absolute Error (MAE): 0.029\n"
     ]
    }
   ],
   "source": [
    "accuracy = round(accuracy_score(y_test, pred_final) * 100, 3)\n",
    "auc = round(roc_auc_score(y_test, pred_final), 3)\n",
    "prec = round(precision_score(y_test, pred_final, average=\"binary\", pos_label=1), 3)\n",
    "rec = round(recall_score(y_test, pred_final, average=\"binary\", pos_label=1), 3)\n",
    "f1 = round(f1_score(y_test, pred_final, average=\"binary\", pos_label=1), 3)\n",
    "mcc = round(matthews_corrcoef(y_test, pred_final), 3)\n",
    "mse = round(mean_squared_error(y_test, pred_final), 3)\n",
    "mae = round(mean_absolute_error(y_test, pred_final), 3)\n",
    "print(f\"Accuracy: {accuracy}%\")\n",
    "print(f\"AUC score: {auc}\")\n",
    "print(\"Precision:\", prec)\n",
    "print(\"Recall:\", rec)\n",
    "print(\"F1-score:\", f1)\n",
    "print(\"MCC:\", mcc)\n",
    "print(\"Mean Squared Error (MSE):\", mse)\n",
    "print(\"Mean Absolute Error (MAE):\", mae)"
   ]
  },
  {
   "cell_type": "code",
   "execution_count": null,
   "id": "b496aa89-bf5e-47e0-a875-d5ac444ff1b0",
   "metadata": {},
   "outputs": [],
   "source": [
    "# Calculate log loss for each model\n",
    "log_losses = [-log_loss(y_test, model.predict(X_test)) for model in [model_1, model_2, model_3, model_4, model_5]]\n",
    "\n",
    "# Plot the loss curve\n",
    "plt.figure(figsize=(8, 5))\n",
    "plt.plot(range(1, 6), log_losses, marker='o')\n",
    "plt.title('Loss Curve for Individual Models')\n",
    "plt.xlabel('Model')\n",
    "plt.ylabel('Log Loss')\n",
    "plt.xticks(range(1, 6))\n",
    "plt.show()"
   ]
  },
  {
   "cell_type": "code",
   "execution_count": null,
   "id": "a9232fc6-6a63-4bf5-9438-4475c39202b7",
   "metadata": {},
   "outputs": [],
   "source": [
    "# Calculate log loss for the ensemble model\n",
    "ensemble_log_loss = -log_loss(y_test, pred_final)\n",
    "\n",
    "# Plot the loss graph\n",
    "plt.figure(figsize=(6, 4))\n",
    "plt.bar(['Ensemble'], [ensemble_log_loss], color='skyblue')\n",
    "plt.title('Log Loss for Ensemble Model')\n",
    "plt.ylabel('Log Loss')\n",
    "plt.show()"
   ]
  },
  {
   "cell_type": "code",
   "execution_count": 6,
   "id": "6ecd8bcc-c9e3-4c26-bdb5-74a62a91d9f2",
   "metadata": {},
   "outputs": [
    {
     "data": {
      "image/png": "[encoded data removed]",
      "text/plain": [
       "<Figure size 800x600 with 2 Axes>"
      ]
     },
     "metadata": {},
     "output_type": "display_data"
    }
   ],
   "source": [
    "from sklearn.metrics import confusion_matrix\n",
    "\n",
    "# Create a confusion matrix for the ensemble predictions\n",
    "conf_matrix = confusion_matrix(y_test, pred_final)\n",
    "\n",
    "# Plot the heat map\n",
    "plt.figure(figsize=(8, 6))\n",
    "sns.heatmap(conf_matrix, annot=True, cmap='Blues', fmt='g')\n",
    "plt.title('Confusion Matrix for Ensemble Model')\n",
    "plt.xlabel('Predicted Label')\n",
    "plt.ylabel('True Label')\n",
    "plt.show()"
   ]
  },
  {
   "cell_type": "code",
   "execution_count": null,
   "id": "9b6cb761-91b1-42d6-a38b-d2163211344b",
   "metadata": {},
   "outputs": [],
   "source": [
    "fig, ax = plt.subplots()\n",
    "ax.matshow(np.vstack([y_test, pred_final]).T, cmap=\"YlGnBu\")\n",
    "ax.set_xticks(np.arange(len(y_test)))\n",
    "ax.set_yticks([0, 1])\n",
    "ax.set_xlabel(\"Test samples\")\n",
    "ax.set_ylabel(\"Class\")\n",
    "ax.set_title(\"Heatmap of Individual vs. Ensemble Predictions\")\n",
    "plt.show()"
   ]
  },
  {
   "cell_type": "code",
   "execution_count": null,
   "id": "d4476fad-1d3b-418c-8d82-7f23347ab61f",
   "metadata": {},
   "outputs": [],
   "source": [
    "from sklearn.metrics import confusion_matrix\n",
    "import seaborn as sns\n",
    "\n",
    "# Create confusion matrices and plot heat maps for each individual model\n",
    "for i, model in enumerate([model_1, model_2, model_3, model_4, model_5]):\n",
    "    pred = model.predict(X_test)\n",
    "    conf_matrix = confusion_matrix(y_test, pred)\n",
    "\n",
    "    # Plot the heat map for each individual model\n",
    "    plt.figure(figsize=(8, 6))\n",
    "    sns.heatmap(conf_matrix, annot=True, cmap='Blues', fmt='g')\n",
    "    plt.title(f'Confusion Matrix for Model {i+1}')\n",
    "    plt.xlabel('Predicted Label')\n",
    "    plt.ylabel('True Label')\n",
    "    plt.show()"
   ]
  },
  {
   "cell_type": "code",
   "execution_count": null,
   "id": "7a40dba9-6d50-431e-883b-6aee4a2b8cf3",
   "metadata": {},
   "outputs": [],
   "source": [
    "# Calculate log loss for each individual model\n",
    "log_losses = [-log_loss(y_test, model.predict(X_test)) for model in [model_1, model_2, model_3, model_4, model_5]]\n",
    "\n",
    "# Plot the loss graph for individual models\n",
    "plt.figure(figsize=(8, 5))\n",
    "plt.bar(['Model 1', 'Model 2', 'Model 3', 'Model 4', 'Model 5'], log_losses, color='skyblue')\n",
    "plt.title('Log Loss for Individual Models')\n",
    "plt.xlabel('Model')\n",
    "plt.ylabel('Log Loss')\n",
    "plt.show()"
   ]
  },
  {
   "cell_type": "code",
   "execution_count": null,
   "id": "2c16a048-ac2b-4c39-81c0-96bab9e11bd1",
   "metadata": {},
   "outputs": [],
   "source": [
    "# Calculate log loss for each individual model\n",
    "log_losses = [-log_loss(y_test, model.predict(X_test)) for model in [model_1, model_2, model_3, model_4, model_5]]\n",
    "\n",
    "# Plot the loss curve for individual models\n",
    "plt.figure(figsize=(8, 5))\n",
    "plt.plot(range(1, 6), log_losses, marker='o')\n",
    "plt.title('Loss Curve for Individual Models')\n",
    "plt.xlabel('Model')\n",
    "plt.ylabel('Log Loss')\n",
    "plt.xticks(range(1, 6))\n",
    "plt.show()"
   ]
  },
  {
   "cell_type": "code",
   "execution_count": null,
   "id": "e3eb3e3a-a052-4720-a5e6-d0182df5e433",
   "metadata": {},
   "outputs": [],
   "source": []
  }
 ],
 "metadata": {
  "kernelspec": {
   "display_name": "Python 3 (ipykernel)",
   "language": "python",
   "name": "python3"
  },
  "language_info": {
   "codemirror_mode": {
    "name": "ipython",
    "version": 3
   },
   "file_extension": ".py",
   "mimetype": "text/x-python",
   "name": "python",
   "nbconvert_exporter": "python",
   "pygments_lexer": "ipython3",
   "version": "3.11.5"
  }
 },
 "nbformat": 4,
 "nbformat_minor": 5
}
