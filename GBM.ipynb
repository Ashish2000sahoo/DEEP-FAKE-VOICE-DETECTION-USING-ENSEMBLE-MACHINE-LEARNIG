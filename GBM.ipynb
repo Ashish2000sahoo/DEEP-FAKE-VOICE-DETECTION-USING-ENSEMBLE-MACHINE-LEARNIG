{
 "cells": [
  {
   "cell_type": "code",
   "execution_count": 1,
   "id": "2dc1a04b-4dbd-4433-bbae-fc8c80a8d6b1",
   "metadata": {},
   "outputs": [
    {
     "name": "stdout",
     "output_type": "stream",
     "text": [
      " Accuracy: 86.842%\n",
      " AUC score: 0.87\n",
      "Precision: 0.911\n",
      "Recall: 0.826\n",
      "F1-score: 0.867\n",
      "MCC: 0.741\n",
      "Mean Squared Error (MSE) : 0.132\n",
      "Mean Absolute Error (MAE): 0.132\n"
     ]
    }
   ],
   "source": [
    "# IMPORTS\n",
    "import pandas as pd\n",
    "import numpy as np\n",
    "from sklearn.ensemble import GradientBoostingClassifier\n",
    "from sklearn.model_selection import train_test_split\n",
    "import statistics as st\n",
    "import warnings\n",
    "warnings.filterwarnings('ignore')\n",
    "from sklearn.metrics import mean_squared_error\n",
    "from sklearn.metrics import mean_absolute_error\n",
    "from sklearn.metrics import roc_auc_score, accuracy_score, precision_score, recall_score, f1_score, matthews_corrcoef\n",
    "\n",
    "# SPLITTING THE DATASET\n",
    "df = pd.read_csv('DATASET-balanced 1.csv')\n",
    "x = df.drop('LABEL', axis = 1)\n",
    "y = df['LABEL']\n",
    "x_train, x_test, y_train, y_test = train_test_split(x, y, test_size=0.2, random_state=0)\n",
    "\n",
    "model= GradientBoostingClassifier(learning_rate=0.01,random_state=1)\n",
    "model.fit(x_train, y_train)\n",
    "model.score(x_test,y_test)\n",
    "\n",
    "pred_final = model.predict(x_test)\n",
    "\n",
    "accuracy = round(accuracy_score(y_test, pred_final) * 100, 3)\n",
    "auc = round(roc_auc_score(y_test, pred_final), 3)\n",
    "prec = round(precision_score(y_test, pred_final, average=\"binary\", pos_label=1), 3)\n",
    "rec = round(recall_score(y_test, pred_final, average=\"binary\", pos_label=1), 3)\n",
    "f1 = round(f1_score(y_test, pred_final, average=\"binary\", pos_label=1), 3)\n",
    "mcc = round(matthews_corrcoef(y_test, pred_final), 3)\n",
    "mse = round(mean_squared_error(y_test, pred_final), 3)\n",
    "mae = round(mean_absolute_error(y_test, pred_final), 3)\n",
    "\n",
    "print(f\" Accuracy: {accuracy}%\")\n",
    "print(f\" AUC score: {auc}\")\n",
    "print(\"Precision:\", prec)\n",
    "print(\"Recall:\", rec)\n",
    "print(\"F1-score:\", f1)\n",
    "print(\"MCC:\", mcc)\n",
    "print(\"Mean Squared Error (MSE) :\", mse)\n",
    "print(\"Mean Absolute Error (MAE):\", mae)"
   ]
  },
  {
   "cell_type": "code",
   "execution_count": null,
   "id": "28d20280-da8e-4868-8500-fafb8d4862ec",
   "metadata": {},
   "outputs": [],
   "source": []
  }
 ],
 "metadata": {
  "kernelspec": {
   "display_name": "Python 3 (ipykernel)",
   "language": "python",
   "name": "python3"
  },
  "language_info": {
   "codemirror_mode": {
    "name": "ipython",
    "version": 3
   },
   "file_extension": ".py",
   "mimetype": "text/x-python",
   "name": "python",
   "nbconvert_exporter": "python",
   "pygments_lexer": "ipython3",
   "version": "3.11.5"
  }
 },
 "nbformat": 4,
 "nbformat_minor": 5
}
